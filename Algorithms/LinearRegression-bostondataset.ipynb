{
  "nbformat": 4,
  "nbformat_minor": 0,
  "metadata": {
    "colab": {
      "name": "LinearRegression-bostondataset.ipynb",
      "provenance": [],
      "collapsed_sections": []
    },
    "kernelspec": {
      "name": "python3",
      "display_name": "Python 3"
    }
  },
  "cells": [
    {
      "cell_type": "markdown",
      "metadata": {
        "id": "LvBgGx3nQxju"
      },
      "source": [
        "# Importing Libraries"
      ]
    },
    {
      "cell_type": "code",
      "metadata": {
        "id": "KZu1vxZBD7Vt"
      },
      "source": [
        "from sklearn import datasets\n",
        "import pandas as pd\n",
        "import numpy as np\n",
        "import matplotlib.pyplot as plt\n",
        "plt.style.use('ggplot')"
      ],
      "execution_count": 1,
      "outputs": []
    },
    {
      "cell_type": "markdown",
      "metadata": {
        "id": "CqtOd42cQ5pt"
      },
      "source": [
        "# Loading Boston Dataset"
      ]
    },
    {
      "cell_type": "code",
      "metadata": {
        "colab": {
          "base_uri": "https://localhost:8080/"
        },
        "id": "bph_TshfEXLm",
        "outputId": "b5ce8888-b17f-496e-ef66-fc6be9e47294"
      },
      "source": [
        "boston = datasets.load_boston()\n",
        "type(boston)"
      ],
      "execution_count": 2,
      "outputs": [
        {
          "output_type": "execute_result",
          "data": {
            "text/plain": [
              "sklearn.utils.Bunch"
            ]
          },
          "metadata": {
            "tags": []
          },
          "execution_count": 2
        }
      ]
    },
    {
      "cell_type": "code",
      "metadata": {
        "colab": {
          "base_uri": "https://localhost:8080/"
        },
        "id": "YjF_ZCwVEfOF",
        "outputId": "2108442b-5623-423b-a0cc-b942d0c46bd3"
      },
      "source": [
        "print(boston.keys())"
      ],
      "execution_count": 3,
      "outputs": [
        {
          "output_type": "stream",
          "text": [
            "dict_keys(['data', 'target', 'feature_names', 'DESCR', 'filename'])\n"
          ],
          "name": "stdout"
        }
      ]
    },
    {
      "cell_type": "code",
      "metadata": {
        "id": "jGyI76uBEn71"
      },
      "source": [
        "X = boston.data\n",
        "y = boston.target"
      ],
      "execution_count": 4,
      "outputs": []
    },
    {
      "cell_type": "markdown",
      "metadata": {
        "id": "GE2X_X8aQ-sm"
      },
      "source": [
        "### Considering only Rooms as X from the Boston Dataset"
      ]
    },
    {
      "cell_type": "code",
      "metadata": {
        "colab": {
          "base_uri": "https://localhost:8080/"
        },
        "id": "cSTa9GxGFNbF",
        "outputId": "11fbcaf5-3164-45d4-e2a7-e671fb69f22e"
      },
      "source": [
        "X_rooms = X[:,5]\n",
        "type(X_rooms), type(y)"
      ],
      "execution_count": 5,
      "outputs": [
        {
          "output_type": "execute_result",
          "data": {
            "text/plain": [
              "(numpy.ndarray, numpy.ndarray)"
            ]
          },
          "metadata": {
            "tags": []
          },
          "execution_count": 5
        }
      ]
    },
    {
      "cell_type": "code",
      "metadata": {
        "id": "l6p9I-f6Fw-m"
      },
      "source": [
        "y = y.reshape(-1,1)\n",
        "X_rooms = X_rooms.reshape(-1,1)"
      ],
      "execution_count": 6,
      "outputs": []
    },
    {
      "cell_type": "code",
      "metadata": {
        "colab": {
          "base_uri": "https://localhost:8080/",
          "height": 282
        },
        "id": "WpLoWxGGF7mL",
        "outputId": "67b9bf72-c962-4fc4-9dc9-30c18bc022f7"
      },
      "source": [
        "plt.scatter(X_rooms, y)\n",
        "plt.ylabel('Value of House /1000 ($)')\n",
        "plt.xlabel('Number of Rooms')\n",
        "plt.show;"
      ],
      "execution_count": 7,
      "outputs": [
        {
          "output_type": "display_data",
          "data": {
            "image/png": "[encoded data removed]",
            "text/plain": [
              "<Figure size 432x288 with 1 Axes>"
            ]
          },
          "metadata": {
            "tags": [],
            "needs_background": "light"
          }
        }
      ]
    },
    {
      "cell_type": "markdown",
      "metadata": {
        "id": "I0YWPGd-RLEC"
      },
      "source": [
        "**Fitting the Model by considering X_rooms**"
      ]
    },
    {
      "cell_type": "code",
      "metadata": {
        "id": "GGqGQNnuGKkz"
      },
      "source": [
        "from sklearn.linear_model import LinearRegression\n",
        "\n",
        "reg = LinearRegression()\n",
        "reg.fit(X_rooms, y)\n",
        "\n",
        "prediction_space = np.linspace(min(X_rooms), max(X_rooms)).reshape(-1,1)"
      ],
      "execution_count": 8,
      "outputs": []
    },
    {
      "cell_type": "code",
      "metadata": {
        "colab": {
          "base_uri": "https://localhost:8080/",
          "height": 265
        },
        "id": "LoNbVQXLGzmo",
        "outputId": "fff55dcd-c3f2-4c57-8d27-f3ef6f798d7c"
      },
      "source": [
        "plt.scatter(X_rooms, y, color = 'blue')\n",
        "plt.plot(prediction_space, reg.predict(prediction_space), color=\"black\", linewidth=3)\n",
        "plt.show()"
      ],
      "execution_count": 9,
      "outputs": [
        {
          "output_type": "display_data",
          "data": {
            "image/png": "[encoded data removed]",
            "text/plain": [
              "<Figure size 432x288 with 1 Axes>"
            ]
          },
          "metadata": {
            "tags": [],
            "needs_background": "light"
          }
        }
      ]
    },
    {
      "cell_type": "code",
      "metadata": {
        "id": "KPhlRxfgHEcr"
      },
      "source": [
        ""
      ],
      "execution_count": null,
      "outputs": []
    },
    {
      "cell_type": "markdown",
      "metadata": {
        "id": "wsu9qHtVRPTF"
      },
      "source": [
        "# Fitting the model and Evaluating"
      ]
    },
    {
      "cell_type": "code",
      "metadata": {
        "colab": {
          "base_uri": "https://localhost:8080/"
        },
        "id": "YvUkRwYvI_1Y",
        "outputId": "3a7362b1-e839-4fe4-f756-cd499ef3f3d7"
      },
      "source": [
        "from sklearn.model_selection import train_test_split\n",
        "from sklearn.linear_model import LinearRegression\n",
        "\n",
        "# Fitting regression line over all variables\n",
        "X_train, X_test, y_train, y_test = train_test_split(X, y, test_size = 0.3, random_state = 42)\n",
        "\n",
        "reg_all = LinearRegression()\n",
        "reg_all.fit(X_train, y_train)\n",
        "\n",
        "y_pred = reg_all.predict(X_test)\n",
        "\n",
        "print(\"Accuracy score: \", reg_all.score(X_test, y_test))"
      ],
      "execution_count": 10,
      "outputs": [
        {
          "output_type": "stream",
          "text": [
            "Accuracy score:  0.7112260057484974\n"
          ],
          "name": "stdout"
        }
      ]
    },
    {
      "cell_type": "code",
      "metadata": {
        "colab": {
          "base_uri": "https://localhost:8080/"
        },
        "id": "MOi4ZkyjJj9p",
        "outputId": "6f46fa77-c592-42e2-c500-0ff0d660f259"
      },
      "source": [
        "from sklearn.metrics import mean_squared_error\n",
        "\n",
        "print(\"R^2: {}\".format(reg_all.score(X_test, y_test)))\n",
        "rmse = np.sqrt(mean_squared_error(y_test, y_pred))\n",
        "print(\"Root Mean Squared Error: {}\".format(rmse))"
      ],
      "execution_count": 11,
      "outputs": [
        {
          "output_type": "stream",
          "text": [
            "R^2: 0.7112260057484974\n",
            "Root Mean Squared Error: 4.638689926172788\n"
          ],
          "name": "stdout"
        }
      ]
    },
    {
      "cell_type": "code",
      "metadata": {
        "id": "gvw_yMS2Ldz-"
      },
      "source": [
        ""
      ],
      "execution_count": null,
      "outputs": []
    },
    {
      "cell_type": "markdown",
      "metadata": {
        "id": "91BeNEDwRVqc"
      },
      "source": [
        "# Cross Validation to Evaluate the model more precisely"
      ]
    },
    {
      "cell_type": "code",
      "metadata": {
        "colab": {
          "base_uri": "https://localhost:8080/"
        },
        "id": "XaRj-UplMDDa",
        "outputId": "80507cba-6534-4a81-e4a9-baa8268b73c8"
      },
      "source": [
        "from sklearn.model_selection import cross_val_score\n",
        "from sklearn.linear_model import LinearRegression\n",
        "\n",
        "reg = LinearRegression()\n",
        "\n",
        "cv_results = cross_val_score(reg, X, y, cv=5)\n",
        "\n",
        "print(cv_results)\n",
        "\n",
        "print(np.mean(cv_results))"
      ],
      "execution_count": 12,
      "outputs": [
        {
          "output_type": "stream",
          "text": [
            "[ 0.63919994  0.71386698  0.58702344  0.07923081 -0.25294154]\n",
            "0.35327592439588507\n"
          ],
          "name": "stdout"
        }
      ]
    },
    {
      "cell_type": "code",
      "metadata": {
        "id": "KUClvDSdMgVz"
      },
      "source": [
        ""
      ],
      "execution_count": null,
      "outputs": []
    },
    {
      "cell_type": "markdown",
      "metadata": {
        "id": "R-dUZ8UvRc4H"
      },
      "source": [
        "# Regularizing Model"
      ]
    },
    {
      "cell_type": "code",
      "metadata": {
        "colab": {
          "base_uri": "https://localhost:8080/"
        },
        "id": "RPNKlrVaNtT0",
        "outputId": "87c7db54-3411-423d-ce99-a494f5cff748"
      },
      "source": [
        "from sklearn.model_selection import train_test_split\n",
        "from sklearn.linear_model import Ridge\n",
        "\n",
        "X_train, X_test, y_train, y_test = train_test_split(X, y, test_size = 0.3, random_state = 42)\n",
        "\n",
        "ridge = Ridge(alpha=0.1, normalize=True)\n",
        "ridge.fit(X_train, y_train)\n",
        "\n",
        "ridge_pred = ridge.predict(X_test)\n",
        "\n",
        "ridge.score(X_test, y_test)"
      ],
      "execution_count": 13,
      "outputs": [
        {
          "output_type": "execute_result",
          "data": {
            "text/plain": [
              "0.6996938275127313"
            ]
          },
          "metadata": {
            "tags": []
          },
          "execution_count": 13
        }
      ]
    },
    {
      "cell_type": "code",
      "metadata": {
        "colab": {
          "base_uri": "https://localhost:8080/"
        },
        "id": "qQSoNpmpOMFl",
        "outputId": "0ab417e1-a8cc-4bf2-c3fe-70dd2972135a"
      },
      "source": [
        "from sklearn.model_selection import train_test_split\n",
        "from sklearn.linear_model import Lasso\n",
        "\n",
        "X_train, X_test, y_train, y_test = train_test_split(X, y, test_size = 0.3, random_state = 42)\n",
        "\n",
        "lasso = Lasso(alpha=0.1, normalize=True)\n",
        "lasso.fit(X_train, y_train)\n",
        "\n",
        "lasso_pred = lasso.predict(X_test)\n",
        "\n",
        "lasso.score(X_test, y_test)"
      ],
      "execution_count": 14,
      "outputs": [
        {
          "output_type": "execute_result",
          "data": {
            "text/plain": [
              "0.595022953532855"
            ]
          },
          "metadata": {
            "tags": []
          },
          "execution_count": 14
        }
      ]
    },
    {
      "cell_type": "code",
      "metadata": {
        "id": "WvJ59RgnOb8v"
      },
      "source": [
        ""
      ],
      "execution_count": null,
      "outputs": []
    },
    {
      "cell_type": "markdown",
      "metadata": {
        "id": "YsPS08baRieN"
      },
      "source": [
        "# Understanding which Features are important using Lasso"
      ]
    },
    {
      "cell_type": "code",
      "metadata": {
        "colab": {
          "base_uri": "https://localhost:8080/",
          "height": 296
        },
        "id": "_74JktjYOqoZ",
        "outputId": "1fb1dcea-83e6-48d2-8049-ccff8b1a8e91"
      },
      "source": [
        "from sklearn.linear_model import Lasso\n",
        "\n",
        "lasso = Lasso(alpha=0.1)\n",
        "\n",
        "lasso_coef = lasso.fit(X, y).coef_\n",
        "\n",
        "names = boston.feature_names\n",
        "_ = plt.plot(range(len(names)), lasso_coef)\n",
        "_ = plt.xticks(range(len(names)), names, rotation=60)\n",
        "_ = plt.ylabel(\"Coefficients\")\n",
        "plt.show()"
      ],
      "execution_count": 15,
      "outputs": [
        {
          "output_type": "display_data",
          "data": {
            "image/png": "[encoded data removed]",
            "text/plain": [
              "<Figure size 432x288 with 1 Axes>"
            ]
          },
          "metadata": {
            "tags": [],
            "needs_background": "light"
          }
        }
      ]
    },
    {
      "cell_type": "markdown",
      "metadata": {
        "id": "3YiCfqwLb23g"
      },
      "source": [
        "As seen, 'RM' variable is the most important variable for predicting the dependent variable. Also 'DIS' is the least significant variable for modelling."
      ]
    },
    {
      "cell_type": "code",
      "metadata": {
        "id": "pzjfF_4UPXmx"
      },
      "source": [
        ""
      ],
      "execution_count": null,
      "outputs": []
    },
    {
      "cell_type": "markdown",
      "metadata": {
        "id": "LLXgbH5zj_jC"
      },
      "source": [
        "# Getting Summary of Regression model (using statsmodel library)"
      ]
    },
    {
      "cell_type": "code",
      "metadata": {
        "colab": {
          "base_uri": "https://localhost:8080/"
        },
        "id": "Cs3uOjQgivNH",
        "outputId": "d880f916-252b-40e5-dd2d-bcb268857875"
      },
      "source": [
        "import statsmodels.api as sm\n",
        "\n",
        "X_train = np.array(X_train)\n",
        "y_train = np.array(y_train)\n",
        "X_train = sm.add_constant(X_train)\n",
        "# we need to add a constant so that statsmodel will calculate the summary with intercept, not needed in normal regression\n",
        "# using sklearn"
      ],
      "execution_count": 16,
      "outputs": [
        {
          "output_type": "stream",
          "text": [
            "/usr/local/lib/python3.7/dist-packages/statsmodels/tools/_testing.py:19: FutureWarning: pandas.util.testing is deprecated. Use the functions in the public API at pandas.testing instead.\n",
            "  import pandas.util.testing as tm\n"
          ],
          "name": "stderr"
        }
      ]
    },
    {
      "cell_type": "code",
      "metadata": {
        "colab": {
          "base_uri": "https://localhost:8080/"
        },
        "id": "-KsLXubnjYLo",
        "outputId": "4c0a4263-604e-417e-a60d-6edd56abd94a"
      },
      "source": [
        "print(\"First example:\",X_train[0])"
      ],
      "execution_count": 19,
      "outputs": [
        {
          "output_type": "stream",
          "text": [
            "First example: [1.0000e+00 2.9850e-02 0.0000e+00 2.1800e+00 0.0000e+00 4.5800e-01\n",
            " 6.4300e+00 5.8700e+01 6.0622e+00 3.0000e+00 2.2200e+02 1.8700e+01\n",
            " 3.9412e+02 5.2100e+00]\n"
          ],
          "name": "stdout"
        }
      ]
    },
    {
      "cell_type": "code",
      "metadata": {
        "id": "7BM58JHgjZ-S"
      },
      "source": [
        "# Model fitting\n",
        "model = sm.OLS(y_train, X_train)\n",
        "results = model.fit()"
      ],
      "execution_count": 20,
      "outputs": []
    },
    {
      "cell_type": "code",
      "metadata": {
        "colab": {
          "base_uri": "https://localhost:8080/"
        },
        "id": "t6kdhoP5jwkX",
        "outputId": "864094ae-e197-4100-b79c-cdf424cf3da4"
      },
      "source": [
        "# Getting the summary\n",
        "print(results.summary())"
      ],
      "execution_count": 21,
      "outputs": [
        {
          "output_type": "stream",
          "text": [
            "                            OLS Regression Results                            \n",
            "==============================================================================\n",
            "Dep. Variable:                      y   R-squared:                       0.743\n",
            "Model:                            OLS   Adj. R-squared:                  0.734\n",
            "Method:                 Least Squares   F-statistic:                     75.81\n",
            "Date:                Sat, 10 Apr 2021   Prob (F-statistic):           4.96e-92\n",
            "Time:                        11:33:54   Log-Likelihood:                -1053.8\n",
            "No. Observations:                 354   AIC:                             2136.\n",
            "Df Residuals:                     340   BIC:                             2190.\n",
            "Df Model:                          13                                         \n",
            "Covariance Type:            nonrobust                                         \n",
            "==============================================================================\n",
            "                 coef    std err          t      P>|t|      [0.025      0.975]\n",
            "------------------------------------------------------------------------------\n",
            "const         31.6311      6.056      5.223      0.000      19.720      43.542\n",
            "x1            -0.1335      0.041     -3.271      0.001      -0.214      -0.053\n",
            "x2             0.0358      0.018      2.029      0.043       0.001       0.071\n",
            "x3             0.0495      0.073      0.680      0.497      -0.094       0.193\n",
            "x4             3.1198      1.037      3.010      0.003       1.081       5.159\n",
            "x5           -15.4171      4.750     -3.246      0.001     -24.759      -6.075\n",
            "x6             4.0572      0.496      8.181      0.000       3.082       5.033\n",
            "x7            -0.0108      0.016     -0.671      0.503      -0.043       0.021\n",
            "x8            -1.3860      0.242     -5.734      0.000      -1.861      -0.911\n",
            "x9             0.2427      0.082      2.963      0.003       0.082       0.404\n",
            "x10           -0.0087      0.005     -1.886      0.060      -0.018       0.000\n",
            "x11           -0.9107      0.154     -5.905      0.000      -1.214      -0.607\n",
            "x12            0.0118      0.003      3.534      0.000       0.005       0.018\n",
            "x13           -0.5471      0.059     -9.219      0.000      -0.664      -0.430\n",
            "==============================================================================\n",
            "Omnibus:                      115.779   Durbin-Watson:                   2.087\n",
            "Prob(Omnibus):                  0.000   Jarque-Bera (JB):              458.270\n",
            "Skew:                           1.381   Prob(JB):                    3.08e-100\n",
            "Kurtosis:                       7.842   Cond. No.                     1.49e+04\n",
            "==============================================================================\n",
            "\n",
            "Warnings:\n",
            "[1] Standard Errors assume that the covariance matrix of the errors is correctly specified.\n",
            "[2] The condition number is large, 1.49e+04. This might indicate that there are\n",
            "strong multicollinearity or other numerical problems.\n"
          ],
          "name": "stdout"
        }
      ]
    },
    {
      "cell_type": "code",
      "metadata": {
        "colab": {
          "base_uri": "https://localhost:8080/"
        },
        "id": "ip6Otcuqj0xB",
        "outputId": "1e0f4438-b3fa-403e-9634-c333f3c67e9f"
      },
      "source": [
        "print('coefficient of determination:', results.rsquared)\n",
        "print('adjusted coefficient of determination:', results.rsquared_adj)\n",
        "print('regression coefficients:', results.params)"
      ],
      "execution_count": 22,
      "outputs": [
        {
          "output_type": "stream",
          "text": [
            "coefficient of determination: 0.7434997532004697\n",
            "adjusted coefficient of determination: 0.7336923908228405\n",
            "regression coefficients: [ 3.16310840e+01 -1.33470103e-01  3.58089136e-02  4.95226452e-02\n",
            "  3.11983512e+00 -1.54170609e+01  4.05719923e+00 -1.08208352e-02\n",
            " -1.38599824e+00  2.42727340e-01 -8.70223437e-03 -9.10685208e-01\n",
            "  1.17941159e-02 -5.47113313e-01]\n"
          ],
          "name": "stdout"
        }
      ]
    },
    {
      "cell_type": "code",
      "metadata": {
        "id": "znjQ0vGHj8zV"
      },
      "source": [
        ""
      ],
      "execution_count": null,
      "outputs": []
    }
  ]
}