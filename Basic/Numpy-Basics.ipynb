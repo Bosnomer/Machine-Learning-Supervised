{
  "nbformat": 4,
  "nbformat_minor": 0,
  "metadata": {
    "kernelspec": {
      "display_name": "Python 3",
      "language": "python",
      "name": "python3"
    },
    "language_info": {
      "codemirror_mode": {
        "name": "ipython",
        "version": 3
      },
      "file_extension": ".py",
      "mimetype": "text/x-python",
      "name": "python",
      "nbconvert_exporter": "python",
      "pygments_lexer": "ipython3",
      "version": "3.7.6"
    },
    "colab": {
      "name": "Numpy-Basics.ipynb",
      "provenance": [],
      "collapsed_sections": []
    }
  },
  "cells": [
    {
      "cell_type": "markdown",
      "metadata": {
        "id": "sZ4URnNCe8uf"
      },
      "source": [
        "# Numpy Basics"
      ]
    },
    {
      "cell_type": "code",
      "metadata": {
        "id": "j7TdpnJ2e8up"
      },
      "source": [
        "# Importing libraries\n",
        "import numpy as np\n",
        "import pandas as pd"
      ],
      "execution_count": 1,
      "outputs": []
    },
    {
      "cell_type": "code",
      "metadata": {
        "id": "1uH485pYe8uq",
        "colab": {
          "base_uri": "https://localhost:8080/"
        },
        "outputId": "75395b92-83d8-4119-88af-d75db1b2413c"
      },
      "source": [
        "x = np.array([1,2,3,5]) # creating numpy array\n",
        "y = np.array((3,4,5,7))\n",
        "\n",
        "print(\"x:\", x)\n",
        "print(\"Type:\", type(x))\n",
        "print(\"Length:\", len(x))\n",
        "\n",
        "print(\"y:\", y)\n",
        "print(\"Type:\", type(y))\n",
        "print(\"Length:\", len(y))"
      ],
      "execution_count": 2,
      "outputs": [
        {
          "output_type": "stream",
          "text": [
            "x: [1 2 3 5]\n",
            "Type: <class 'numpy.ndarray'>\n",
            "Length: 4\n",
            "y: [3 4 5 7]\n",
            "Type: <class 'numpy.ndarray'>\n",
            "Length: 4\n"
          ],
          "name": "stdout"
        }
      ]
    },
    {
      "cell_type": "code",
      "metadata": {
        "colab": {
          "base_uri": "https://localhost:8080/"
        },
        "id": "gQdExSMZWXc9",
        "outputId": "44da965c-bb5f-42f2-b6ea-fac4000c44f3"
      },
      "source": [
        "x = np.ones((3,4), dtype=np.int16) #(3,4) specifies rows and columns respectively; np.int16 specifies type to be considered\n",
        "print(\"x:\", x)\n",
        "\n",
        "y = np.full((3,4), 0.55) # #(3,4) specifies rows and columns respectively; 0.55 is the value to be filled in each cell\n",
        "print(\"y:\", y)\n"
      ],
      "execution_count": 3,
      "outputs": [
        {
          "output_type": "stream",
          "text": [
            "x: [[1 1 1 1]\n",
            " [1 1 1 1]\n",
            " [1 1 1 1]]\n",
            "y: [[0.55 0.55 0.55 0.55]\n",
            " [0.55 0.55 0.55 0.55]\n",
            " [0.55 0.55 0.55 0.55]]\n"
          ],
          "name": "stdout"
        }
      ]
    },
    {
      "cell_type": "code",
      "metadata": {
        "id": "FkTCdubbe8us",
        "colab": {
          "base_uri": "https://localhost:8080/"
        },
        "outputId": "de5e64f3-075b-4d08-d1c6-d0b61969bc58"
      },
      "source": [
        "x = np.arange(10, 30, 5) # array of numbers between 10 to 30 excluding 30 with common difference of 5\n",
        "y = np.arange(0, 2, 0.3) # array of numbers between 0 to 2 excluding 2 with common difference of 0.3\n",
        "\n",
        "print(\"x:\",x)\n",
        "print(\"y:\",y)\n",
        "\n",
        "\n",
        "z = np.linspace(10, 30, 6) # array of numbers between 10 and 30 both inclusive, having equal interval and 6 elements\n",
        "print(\"z:\",z)"
      ],
      "execution_count": 4,
      "outputs": [
        {
          "output_type": "stream",
          "text": [
            "x: [10 15 20 25]\n",
            "y: [0.  0.3 0.6 0.9 1.2 1.5 1.8]\n",
            "z: [10. 14. 18. 22. 26. 30.]\n"
          ],
          "name": "stdout"
        }
      ]
    },
    {
      "cell_type": "code",
      "metadata": {
        "colab": {
          "base_uri": "https://localhost:8080/"
        },
        "id": "uOyEsg82buFF",
        "outputId": "1cb5c6ea-7367-433c-f71b-2fd714b32845"
      },
      "source": [
        "x = np.random.rand(2, 3) # creating random numbers in matrix 2x3\n",
        "y = np.random.rand(4, 5) # creating random numbers in matrix 4x5\n",
        "\n",
        "print(\"x:\",x)\n",
        "print(\"y:\",y)"
      ],
      "execution_count": 5,
      "outputs": [
        {
          "output_type": "stream",
          "text": [
            "x: [[0.3651584  0.46651371 0.55152962]\n",
            " [0.90863042 0.97590174 0.25955376]]\n",
            "y: [[0.97550032 0.41035827 0.27824471 0.10002972 0.2152555 ]\n",
            " [0.44198156 0.55017495 0.70624608 0.95168589 0.27740936]\n",
            " [0.15503399 0.53145769 0.34063017 0.66873114 0.63150116]\n",
            " [0.36727536 0.82318919 0.69502734 0.703161   0.3352282 ]]\n"
          ],
          "name": "stdout"
        }
      ]
    },
    {
      "cell_type": "code",
      "metadata": {
        "id": "bhw9hiADe8uu",
        "colab": {
          "base_uri": "https://localhost:8080/"
        },
        "outputId": "78ba8890-ae4d-453f-ade3-f01934a7c972"
      },
      "source": [
        "# Creating two normal distributions\n",
        "\n",
        "mu, sigma = 0, 1\n",
        "x = np.random.normal(mu, sigma, 50) # creating 50 random samples from normal distribution with mu=0, sd=1\n",
        "y = np.random.normal(50, 0.1, 50)\n",
        "print(x)\n",
        "print(y)\n",
        "\n",
        "print(\"\\nMean of x:\", np.mean(x))\n",
        "print(\"Std. Deviation of x:\",np.std(x))"
      ],
      "execution_count": 6,
      "outputs": [
        {
          "output_type": "stream",
          "text": [
            "[ 1.3802849   1.06443489  0.85464968 -0.96635272 -0.33305721 -0.40540898\n",
            "  0.06133347 -2.04632767  0.83549686  1.25846284  0.11319099 -0.03451268\n",
            " -0.18437363  1.02034902 -0.73966249 -0.33957314  0.61199652  1.27839282\n",
            " -0.96719211 -1.23930526  0.33450155  1.69370808  1.50557686 -2.07230358\n",
            " -0.54061808  1.70150855  0.07563046 -0.47350841 -2.0955073  -0.18916934\n",
            "  2.11510431 -1.1280606   0.49717684 -0.64415883  0.00415191 -0.25063182\n",
            "  1.0994007  -0.40874183  0.22003672 -0.76350536  0.45582853 -0.11315125\n",
            "  0.26831061  0.94643657  0.61618554 -0.03150158  1.48893278 -0.70881695\n",
            " -0.91782258 -0.31585146]\n",
            "[50.19982443 49.94986259 50.05731499 50.01047392 50.19526073 49.96646468\n",
            " 49.95369765 49.97789121 50.05691546 49.84178684 50.17808358 49.96775157\n",
            " 50.00749897 49.94499207 50.04583717 50.01117766 49.93829967 50.01858961\n",
            " 50.05038817 49.9799127  49.92920233 49.83360523 50.10600757 50.00464601\n",
            " 50.09481617 50.01037136 50.03987289 49.99481751 50.05949032 49.94758875\n",
            " 49.98059891 49.85791399 49.99433458 49.90628622 49.94593932 50.03857271\n",
            " 50.05882835 49.91575152 50.01120059 50.12474012 49.9490518  49.96891898\n",
            " 50.05755493 50.07886181 50.22399104 50.01495211 50.01253233 49.95340777\n",
            " 49.79785678 49.95127819]\n",
            "\n",
            "Mean of x: 0.07183934273490787\n",
            "Std. Deviation of x: 0.9850802591788674\n"
          ],
          "name": "stdout"
        }
      ]
    },
    {
      "cell_type": "code",
      "metadata": {
        "id": "7oodxHJre8uu",
        "colab": {
          "base_uri": "https://localhost:8080/"
        },
        "outputId": "5cc842c2-9c9b-4e1f-9177-cc2dd9f63c3a"
      },
      "source": [
        "np.corrcoef(x, y) # Correlation matrix"
      ],
      "execution_count": 7,
      "outputs": [
        {
          "output_type": "execute_result",
          "data": {
            "text/plain": [
              "array([[1.        , 0.07097451],\n",
              "       [0.07097451, 1.        ]])"
            ]
          },
          "metadata": {
            "tags": []
          },
          "execution_count": 7
        }
      ]
    },
    {
      "cell_type": "code",
      "metadata": {
        "id": "YAfaYTdie8uv"
      },
      "source": [
        "import random\n",
        "random.seed(2333) # seed will help to set same values of random"
      ],
      "execution_count": 8,
      "outputs": []
    },
    {
      "cell_type": "code",
      "metadata": {
        "id": "vYvMoX1Ge8uw",
        "colab": {
          "base_uri": "https://localhost:8080/"
        },
        "outputId": "d33d736b-f81e-495e-94a0-021ea58e58ba"
      },
      "source": [
        "y = np.random.normal(mu, sigma, 100)\n",
        "\n",
        "print(np.mean(y))\n",
        "print(np.std(y))"
      ],
      "execution_count": 9,
      "outputs": [
        {
          "output_type": "stream",
          "text": [
            "0.017140921122087052\n",
            "0.9822815385992552\n"
          ],
          "name": "stdout"
        }
      ]
    },
    {
      "cell_type": "code",
      "metadata": {
        "id": "CQnr71VCe8ux",
        "colab": {
          "base_uri": "https://localhost:8080/"
        },
        "outputId": "ee27d73c-ba02-4e68-f5d3-fb792b1f4d12"
      },
      "source": [
        "y = np.random.normal(mu, sigma, 200)\n",
        "\n",
        "print(np.mean(y))\n",
        "print(np.std(y))"
      ],
      "execution_count": 10,
      "outputs": [
        {
          "output_type": "stream",
          "text": [
            "-0.05945665203039562\n",
            "0.9833290745986839\n"
          ],
          "name": "stdout"
        }
      ]
    },
    {
      "cell_type": "code",
      "metadata": {
        "id": "m-vu67Ire8uy",
        "colab": {
          "base_uri": "https://localhost:8080/"
        },
        "outputId": "29ab25a6-db7b-4b6a-a4b5-ec578ff7cb06"
      },
      "source": [
        "y = np.random.normal(mu, sigma, 500)\n",
        "\n",
        "print(np.mean(y))\n",
        "print(np.std(y))"
      ],
      "execution_count": 11,
      "outputs": [
        {
          "output_type": "stream",
          "text": [
            "-0.015469404279882571\n",
            "0.985559300339877\n"
          ],
          "name": "stdout"
        }
      ]
    },
    {
      "cell_type": "code",
      "metadata": {
        "id": "a6QYTvqVe8uy",
        "colab": {
          "base_uri": "https://localhost:8080/"
        },
        "outputId": "64871a06-df10-42f4-e6f8-6e2b0dae5276"
      },
      "source": [
        "y = np.random.normal(mu, sigma, 1000) # As no. of samples are increasing, mean and sd are tending toward 0 and 1 resp.\n",
        "\n",
        "print(np.mean(y))\n",
        "print(np.std(y))"
      ],
      "execution_count": 12,
      "outputs": [
        {
          "output_type": "stream",
          "text": [
            "-0.0008912064684190741\n",
            "0.9862148673323282\n"
          ],
          "name": "stdout"
        }
      ]
    },
    {
      "cell_type": "code",
      "metadata": {
        "colab": {
          "base_uri": "https://localhost:8080/"
        },
        "id": "TGRjxrntd7_y",
        "outputId": "c0d7d4b5-16cc-4a10-b9c4-e18d0c94064f"
      },
      "source": [
        "# Some Functions and Methods\n",
        "\n",
        "y = np.array([[3,4,5,7,10,12,13,15], [1,2,3,4,5,6,7,8]])\n",
        "\n",
        "print(y)\n",
        "print(\"Ndim:\", np.ndim(y))\n",
        "print(\"Shape:\", y.shape)\n",
        "print(\"Size:\", y.size)\n",
        "print(\"Dtype:\", y.dtype)\n",
        "print(\"Itemsize:\", y.itemsize)\n",
        "print(\"Reshape:\", y.reshape(4, 4)) # changing shape to 4x4"
      ],
      "execution_count": 13,
      "outputs": [
        {
          "output_type": "stream",
          "text": [
            "[[ 3  4  5  7 10 12 13 15]\n",
            " [ 1  2  3  4  5  6  7  8]]\n",
            "Ndim: 2\n",
            "Shape: (2, 8)\n",
            "Size: 16\n",
            "Dtype: int64\n",
            "Itemsize: 8\n",
            "Reshape: [[ 3  4  5  7]\n",
            " [10 12 13 15]\n",
            " [ 1  2  3  4]\n",
            " [ 5  6  7  8]]\n"
          ],
          "name": "stdout"
        }
      ]
    },
    {
      "cell_type": "code",
      "metadata": {
        "colab": {
          "base_uri": "https://localhost:8080/"
        },
        "id": "NOgmmRCliOM1",
        "outputId": "fbddebf5-fd0b-4d26-9a1a-f7d5d98f4f1b"
      },
      "source": [
        "# Extracting elements\n",
        "y = np.array([1,2,3,4,5])\n",
        "\n",
        "print(y[2:5]) # prints items 2 to 4\n",
        "print(y[2::2]) # prints items 2 to end skipping 2 items\n",
        "print(y[::-1]) # prints the array in the reverse order\n",
        "print(y[1:]) # prints from row 1 to end\n",
        "\n",
        "# These are quiet similar to lists"
      ],
      "execution_count": 14,
      "outputs": [
        {
          "output_type": "stream",
          "text": [
            "[3 4 5]\n",
            "[3 5]\n",
            "[5 4 3 2 1]\n",
            "[2 3 4 5]\n"
          ],
          "name": "stdout"
        }
      ]
    },
    {
      "cell_type": "code",
      "metadata": {
        "colab": {
          "base_uri": "https://localhost:8080/"
        },
        "id": "J7VKbGtVjJaH",
        "outputId": "ca0fbb53-7d73-411d-9e45-a399834e54b3"
      },
      "source": [
        "# Some Basic Vector and Matrix Multiplication operations\n",
        "\n",
        "print(\"Some Basic Vector operations--\\n\")\n",
        "x = np.array([1,2,3,4,5])\n",
        "y = np.array([1,3,5,7,9])\n",
        "\n",
        "print(\"x\", x)\n",
        "print(\"y\", y)\n",
        "\n",
        "print(\"Addition of 2 vectors:\", x+y)\n",
        "print(\"Subtraction of 2 vectors:\", x-y)\n",
        "print(\"Multiplication of 2 vectors:\", x*y)\n",
        "print(\"Division of 2 vectors:\", x/y)\n",
        "print(\"Mod of 2 vectors:\", x%y)\n",
        "\n",
        "print()\n",
        "print()\n",
        "\n",
        "print(\"Some Basic Matrix Operations--\\n\")\n",
        "a = np.array([[1,2],[3,4]])\n",
        "b = np.array([[1,3],[5,7]])\n",
        "\n",
        "print(\"a:\\n\", a)\n",
        "print(\"b:\\n\", b)\n",
        "\n",
        "print(\"Addition of 2 matrices:\\n\", a+b)\n",
        "print(\"Subtraction of 2 matrices:\\n\", a-b)\n",
        "print(\"Division of 2 matrices:\\n\", a/b)\n",
        "print(\"Mod of 2 matrices:\\n\", a%b)\n",
        "print(\"Multiplication of 2 matrices:\\n\", a*b)\n",
        "print(\"Dot product multiplication:\\n\", np.dot(a, b)) # here no. of columns of a should be equal to no. of rows of b\n",
        "print(\"Transpose:\\n\", np.transpose(a))\n",
        "print(\"A square:\\n\", np.dot(a, np.transpose(a)))\n",
        "\n"
      ],
      "execution_count": 15,
      "outputs": [
        {
          "output_type": "stream",
          "text": [
            "Some Basic Vector operations--\n",
            "\n",
            "x [1 2 3 4 5]\n",
            "y [1 3 5 7 9]\n",
            "Addition of 2 vectors: [ 2  5  8 11 14]\n",
            "Subtraction of 2 vectors: [ 0 -1 -2 -3 -4]\n",
            "Multiplication of 2 vectors: [ 1  6 15 28 45]\n",
            "Division of 2 vectors: [1.         0.66666667 0.6        0.57142857 0.55555556]\n",
            "Mod of 2 vectors: [0 2 3 4 5]\n",
            "\n",
            "\n",
            "Some Basic Matrix Operations--\n",
            "\n",
            "a:\n",
            " [[1 2]\n",
            " [3 4]]\n",
            "b:\n",
            " [[1 3]\n",
            " [5 7]]\n",
            "Addition of 2 matrices:\n",
            " [[ 2  5]\n",
            " [ 8 11]]\n",
            "Subtraction of 2 matrices:\n",
            " [[ 0 -1]\n",
            " [-2 -3]]\n",
            "Division of 2 matrices:\n",
            " [[1.         0.66666667]\n",
            " [0.6        0.57142857]]\n",
            "Mod of 2 matrices:\n",
            " [[0 2]\n",
            " [3 4]]\n",
            "Multiplication of 2 matrices:\n",
            " [[ 1  6]\n",
            " [15 28]]\n",
            "Dot product multiplication:\n",
            " [[11 17]\n",
            " [23 37]]\n",
            "Transpose:\n",
            " [[1 3]\n",
            " [2 4]]\n",
            "A square:\n",
            " [[ 5 11]\n",
            " [11 25]]\n"
          ],
          "name": "stdout"
        }
      ]
    },
    {
      "cell_type": "code",
      "metadata": {
        "id": "FfoWTyX7e8u0"
      },
      "source": [
        ""
      ],
      "execution_count": null,
      "outputs": []
    }
  ]
}