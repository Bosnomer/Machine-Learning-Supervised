{
  "nbformat": 4,
  "nbformat_minor": 0,
  "metadata": {
    "kernelspec": {
      "display_name": "Python 3",
      "language": "python",
      "name": "python3"
    },
    "language_info": {
      "codemirror_mode": {
        "name": "ipython",
        "version": 3
      },
      "file_extension": ".py",
      "mimetype": "text/x-python",
      "name": "python",
      "nbconvert_exporter": "python",
      "pygments_lexer": "ipython3",
      "version": "3.7.6"
    },
    "colab": {
      "name": "Numpy-Basics.ipynb",
      "provenance": [],
      "collapsed_sections": []
    }
  },
  "cells": [
    {
      "cell_type": "markdown",
      "metadata": {
        "id": "sZ4URnNCe8uf"
      },
      "source": [
        "# Numpy Basics"
      ]
    },
    {
      "cell_type": "code",
      "metadata": {
        "id": "j7TdpnJ2e8up"
      },
      "source": [
        "# Importing libraries\n",
        "import numpy as np\n",
        "import pandas as pd"
      ],
      "execution_count": 1,
      "outputs": []
    },
    {
      "cell_type": "code",
      "metadata": {
        "id": "1uH485pYe8uq",
        "colab": {
          "base_uri": "https://localhost:8080/"
        },
        "outputId": "63d024f3-b668-4e64-f413-3280b3c16f39"
      },
      "source": [
        "x = np.array([1,2,3,5]) # creating numpy array\n",
        "y = np.array((3,4,5,7))\n",
        "\n",
        "print(\"x:\", x)\n",
        "print(\"Type:\", type(x))\n",
        "print(\"Length:\", len(x))\n",
        "\n",
        "print(\"y:\", y)\n",
        "print(\"Type:\", type(y))\n",
        "print(\"Length:\", len(y))"
      ],
      "execution_count": 5,
      "outputs": [
        {
          "output_type": "stream",
          "text": [
            "x: [1 2 3 5]\n",
            "Type: <class 'numpy.ndarray'>\n",
            "Length: 4\n",
            "y: [3 4 5 7]\n",
            "Type: <class 'numpy.ndarray'>\n",
            "Length: 4\n"
          ],
          "name": "stdout"
        }
      ]
    },
    {
      "cell_type": "code",
      "metadata": {
        "colab": {
          "base_uri": "https://localhost:8080/"
        },
        "id": "gQdExSMZWXc9",
        "outputId": "b82ddf2d-aa60-4011-e15b-0797c4779065"
      },
      "source": [
        "x = np.ones((3,4), dtype=np.int16) #(3,4) specifies rows and columns respectively; np.int16 specifies type to be considered\n",
        "print(\"x:\", x)\n",
        "\n",
        "y = np.full((3,4), 0.55) # #(3,4) specifies rows and columns respectively; 0.55 is the value to be filled in each cell\n",
        "print(\"y:\", y)\n"
      ],
      "execution_count": 4,
      "outputs": [
        {
          "output_type": "stream",
          "text": [
            "x: [[1 1 1 1]\n",
            " [1 1 1 1]\n",
            " [1 1 1 1]]\n",
            "y: [[0.55 0.55 0.55 0.55]\n",
            " [0.55 0.55 0.55 0.55]\n",
            " [0.55 0.55 0.55 0.55]]\n"
          ],
          "name": "stdout"
        }
      ]
    },
    {
      "cell_type": "code",
      "metadata": {
        "id": "FkTCdubbe8us",
        "colab": {
          "base_uri": "https://localhost:8080/"
        },
        "outputId": "63dbed7d-f168-433a-d1bc-747efe370227"
      },
      "source": [
        "x = np.arange(10, 30, 5) # array of numbers between 10 to 30 excluding 30 with common difference of 5\n",
        "y = np.arange(0, 2, 0.3) # array of numbers between 0 to 2 excluding 2 with common difference of 0.3\n",
        "\n",
        "print(\"x:\",x)\n",
        "print(\"y:\",y)\n",
        "\n",
        "\n",
        "z = np.linspace(10, 30, 6) # array of numbers between 10 and 30 both inclusive, having equal interval and 6 elements\n",
        "print(\"z:\",z)"
      ],
      "execution_count": 8,
      "outputs": [
        {
          "output_type": "stream",
          "text": [
            "x: [10 15 20 25]\n",
            "y: [0.  0.3 0.6 0.9 1.2 1.5 1.8]\n",
            "z: [10. 14. 18. 22. 26. 30.]\n"
          ],
          "name": "stdout"
        }
      ]
    },
    {
      "cell_type": "code",
      "metadata": {
        "colab": {
          "base_uri": "https://localhost:8080/"
        },
        "id": "uOyEsg82buFF",
        "outputId": "8aac69e4-d0fa-4ffc-e9fe-fffb3d0106f0"
      },
      "source": [
        "x = np.random.rand(2, 3) # creating random numbers in matrix 2x3\n",
        "y = np.random.rand(4, 5) # creating random numbers in matrix 4x5\n",
        "\n",
        "print(\"x:\",x)\n",
        "print(\"y:\",y)"
      ],
      "execution_count": 11,
      "outputs": [
        {
          "output_type": "stream",
          "text": [
            "x: [[0.65689625 0.00977458 0.30884681]\n",
            " [0.62870434 0.12775691 0.79799402]]\n",
            "y: [[0.98605382 0.99834735 0.76045641 0.85579514 0.77900182]\n",
            " [0.53716083 0.97947912 0.62821365 0.91114154 0.39402217]\n",
            " [0.04493369 0.22537367 0.41561955 0.3646907  0.04975886]\n",
            " [0.73173486 0.17421562 0.2429176  0.87279351 0.16846284]]\n"
          ],
          "name": "stdout"
        }
      ]
    },
    {
      "cell_type": "code",
      "metadata": {
        "id": "bhw9hiADe8uu",
        "colab": {
          "base_uri": "https://localhost:8080/"
        },
        "outputId": "f65e44e0-62e6-49d0-b9cd-9c8a54c96ea7"
      },
      "source": [
        "# Creating two normal distributions\n",
        "\n",
        "mu, sigma = 0, 1\n",
        "x = np.random.normal(mu, sigma, 50) # creating 50 random samples from normal distribution with mu=0, sd=1\n",
        "y = np.random.normal(50, 0.1, 50)\n",
        "print(x)\n",
        "print(y)\n",
        "\n",
        "print(\"\\nMean of x:\", np.mean(x))\n",
        "print(\"Std. Deviation of x:\",np.std(x))"
      ],
      "execution_count": 13,
      "outputs": [
        {
          "output_type": "stream",
          "text": [
            "[-0.02720375 -0.34479225  0.1775796   0.02804569 -1.60213019  1.56110153\n",
            "  1.66166627  0.07117159  1.27930436  0.10671668 -1.2789991   0.13322498\n",
            " -0.2013692  -1.49415104  2.07277884  1.32131406 -0.38996781  0.14529508\n",
            "  0.51477604  1.27293215 -0.93954265 -1.19269559 -0.98789454  0.67187914\n",
            "  1.31098726  1.68340881 -1.66115235  1.22479911 -1.81789939  1.32870453\n",
            "  0.07065787 -1.56501351  0.02060607  0.25944082  0.56174383  0.73548189\n",
            "  0.58017051  1.85019568  0.03677284  0.48652502 -0.82192387  1.17723059\n",
            " -1.19657229  1.49919192  0.69861572 -0.30476539  0.67102634  0.82253515\n",
            " -0.49206637  0.73415552]\n",
            "[50.15139542 49.99421577 49.9002867  50.193415   49.89720745 50.14166717\n",
            " 50.09543819 49.84369186 49.92664757 50.09071821 49.9315917  50.09892726\n",
            " 50.03389711 49.86621815 49.97421218 50.10688072 49.93932819 50.02111026\n",
            " 50.27434908 50.09420091 49.97954398 49.95511924 50.00624072 49.87728123\n",
            " 50.03877512 49.83641823 50.14900326 50.13090853 50.01701447 50.16051747\n",
            " 50.01959982 50.12347701 50.0909184  49.96231817 50.17117517 50.18726643\n",
            " 50.11580353 49.80754816 50.0655542  50.01421355 50.02068353 50.1790087\n",
            " 49.90545673 49.90742329 50.11923421 49.96365237 50.02077031 49.97161108\n",
            " 49.88830238 50.0491765 ]\n",
            "\n",
            "Mean of x: 0.2090379236610364\n",
            "Std. Deviation of x: 1.0259981965299612\n"
          ],
          "name": "stdout"
        }
      ]
    },
    {
      "cell_type": "code",
      "metadata": {
        "id": "7oodxHJre8uu",
        "colab": {
          "base_uri": "https://localhost:8080/"
        },
        "outputId": "484264d6-1caa-4e73-d6a3-95d24d49edd4"
      },
      "source": [
        "np.corrcoef(x, y) # Correlation matrix"
      ],
      "execution_count": 16,
      "outputs": [
        {
          "output_type": "execute_result",
          "data": {
            "text/plain": [
              "array([[1.        , 0.14123901],\n",
              "       [0.14123901, 1.        ]])"
            ]
          },
          "metadata": {
            "tags": []
          },
          "execution_count": 16
        }
      ]
    },
    {
      "cell_type": "code",
      "metadata": {
        "id": "YAfaYTdie8uv"
      },
      "source": [
        "import random\n",
        "random.seed(2333) # seed will help to set same values of random"
      ],
      "execution_count": 15,
      "outputs": []
    },
    {
      "cell_type": "code",
      "metadata": {
        "id": "vYvMoX1Ge8uw",
        "outputId": "b6366bfa-791e-4804-f153-322441817d9c"
      },
      "source": [
        "y = np.random.normal(mu, sigma, 100)\n",
        "\n",
        "print(np.mean(y))\n",
        "print(np.std(y))"
      ],
      "execution_count": null,
      "outputs": [
        {
          "output_type": "execute_result",
          "data": {
            "text/plain": [
              "array([-0.38691969, -0.73852241,  0.64254636, -1.01378718, -1.27590054,\n",
              "       -0.51195186,  0.56150086, -0.88508516,  0.34912764, -0.72959025,\n",
              "        0.27757774,  2.49995762, -0.8269146 ,  0.21794962,  0.22395765,\n",
              "       -0.55327928,  0.42754409,  1.42594389, -0.59667229, -3.00104212,\n",
              "       -1.51520975,  1.06679562,  0.15350108, -1.01180916,  0.07016624,\n",
              "       -0.63957112,  1.52322512, -1.35193952, -1.07937971, -3.12203478,\n",
              "        0.61789598, -0.69052832,  0.29532367,  0.5367032 , -0.72996759,\n",
              "        1.63791893,  0.25010752, -0.46834661, -0.11320872, -0.80674335,\n",
              "        1.31837498, -0.38221096,  0.21921103, -1.46622964, -0.95482278,\n",
              "       -0.12642401,  1.24461299,  0.5197576 ,  0.65578867,  1.41334291,\n",
              "       -0.05222002, -0.39743224,  0.01895837,  1.19684284, -1.38048125,\n",
              "       -0.08716464, -1.1504026 ,  0.32983682, -1.20643242,  0.91158104,\n",
              "        1.39372855,  0.36933887, -0.01421518,  0.39414346, -1.08522005,\n",
              "        0.950667  , -0.5474053 ,  0.19696355,  0.35869154, -0.12739402,\n",
              "        0.32437986,  0.59365544, -0.70899435,  0.10940105,  1.60735561,\n",
              "       -0.25608615, -0.77071709, -0.39154816,  1.0486966 , -0.26112735,\n",
              "       -0.70954191, -0.10882899, -1.37698607, -1.66404325, -2.16232103,\n",
              "       -0.00952756,  0.08888234,  0.42644265, -0.25484019, -0.53551508,\n",
              "       -0.70887352, -0.87993521, -0.99818874,  0.43178286, -2.25061625,\n",
              "        1.09227976, -1.57592327, -0.31143033,  1.27315652, -0.01893183])"
            ]
          },
          "metadata": {
            "tags": []
          },
          "execution_count": 17
        }
      ]
    },
    {
      "cell_type": "code",
      "metadata": {
        "id": "CQnr71VCe8ux",
        "outputId": "04a971e3-d128-44eb-8c97-33bae4bbc35f"
      },
      "source": [
        "y = np.random.normal(mu, sigma, 200)\n",
        "\n",
        "print(np.mean(y))\n",
        "print(np.std(y))"
      ],
      "execution_count": null,
      "outputs": [
        {
          "output_type": "stream",
          "text": [
            "-0.05028261048021287\n",
            "0.9515817412683031\n"
          ],
          "name": "stdout"
        }
      ]
    },
    {
      "cell_type": "code",
      "metadata": {
        "id": "m-vu67Ire8uy",
        "outputId": "87540b68-b2e1-40d8-8a84-f6f2c6f36ed5"
      },
      "source": [
        "y = np.random.normal(mu, sigma, 500)\n",
        "\n",
        "print(np.mean(y))\n",
        "print(np.std(y))"
      ],
      "execution_count": null,
      "outputs": [
        {
          "output_type": "stream",
          "text": [
            "0.010444486998970284\n",
            "0.998815011740111\n"
          ],
          "name": "stdout"
        }
      ]
    },
    {
      "cell_type": "code",
      "metadata": {
        "id": "a6QYTvqVe8uy",
        "outputId": "6a6f9a87-0787-4bc8-c070-4e675dc6f610"
      },
      "source": [
        "y = np.random.normal(mu, sigma, 1000) # As no. of samples are increasing, mean and sd are tending toward 0 and 1 resp.\n",
        "\n",
        "print(np.mean(y))\n",
        "print(np.std(y))"
      ],
      "execution_count": null,
      "outputs": [
        {
          "output_type": "stream",
          "text": [
            "-0.005215409679478989\n",
            "1.0168717137471066\n"
          ],
          "name": "stdout"
        }
      ]
    },
    {
      "cell_type": "code",
      "metadata": {
        "colab": {
          "base_uri": "https://localhost:8080/"
        },
        "id": "TGRjxrntd7_y",
        "outputId": "9b008502-997f-437a-8c4e-458126290b76"
      },
      "source": [
        "# Some Functions and Methods\n",
        "\n",
        "y = np.array([[3,4,5,7,10,12,13,15], [1,2,3,4,5,6,7,8]])\n",
        "\n",
        "print(y)\n",
        "print(\"Ndim:\", np.ndim(y))\n",
        "print(\"Shape:\", y.shape)\n",
        "print(\"Size:\", y.size)\n",
        "print(\"Dtype:\", y.dtype)\n",
        "print(\"Itemsize:\", y.itemsize)\n",
        "print(\"Reshape:\", y.reshape(4, 4)) # changing shape to 4x4"
      ],
      "execution_count": 25,
      "outputs": [
        {
          "output_type": "stream",
          "text": [
            "[[ 3  4  5  7 10 12 13 15]\n",
            " [ 1  2  3  4  5  6  7  8]]\n",
            "Ndim: 2\n",
            "Shape: (2, 8)\n",
            "Size: 16\n",
            "Dtype: int64\n",
            "Itemsize: 8\n",
            "Reshape: [[ 3  4  5  7]\n",
            " [10 12 13 15]\n",
            " [ 1  2  3  4]\n",
            " [ 5  6  7  8]]\n"
          ],
          "name": "stdout"
        }
      ]
    },
    {
      "cell_type": "code",
      "metadata": {
        "colab": {
          "base_uri": "https://localhost:8080/"
        },
        "id": "NOgmmRCliOM1",
        "outputId": "c6ffb020-9469-4466-ad81-94481a3a7876"
      },
      "source": [
        "# Extracting elements\n",
        "y = np.array([1,2,3,4,5])\n",
        "\n",
        "print(y[2:5]) # prints items 2 to 4\n",
        "print(y[2::2]) # prints items 2 to end skipping 2 items\n",
        "print(y[::-1]) # prints the array in the reverse order\n",
        "print(y[1:]) # prints from row 1 to end\n",
        "\n",
        "# These are quiet similar to lists"
      ],
      "execution_count": 26,
      "outputs": [
        {
          "output_type": "stream",
          "text": [
            "[3 4 5]\n",
            "[3 5]\n",
            "[5 4 3 2 1]\n",
            "[2 3 4 5]\n"
          ],
          "name": "stdout"
        }
      ]
    },
    {
      "cell_type": "code",
      "metadata": {
        "colab": {
          "base_uri": "https://localhost:8080/"
        },
        "id": "J7VKbGtVjJaH",
        "outputId": "da4ee652-e536-4cee-8da9-422f6fc6197e"
      },
      "source": [
        "# Some Basic Vector and Matrix Multiplication operations\n",
        "\n",
        "print(\"Some Basic Vector operations--\\n\")\n",
        "x = np.array([1,2,3,4,5])\n",
        "y = np.array([1,3,5,7,9])\n",
        "\n",
        "print(\"x\", x)\n",
        "print(\"y\", y)\n",
        "\n",
        "print(\"Addition of 2 vectors:\", x+y)\n",
        "print(\"Subtraction of 2 vectors:\", x-y)\n",
        "print(\"Multiplication of 2 vectors:\", x*y)\n",
        "print(\"Division of 2 vectors:\", x/y)\n",
        "print(\"Mod of 2 vectors:\", x%y)\n",
        "\n",
        "print()\n",
        "print()\n",
        "\n",
        "print(\"Some Basic Matrix Operations--\\n\")\n",
        "a = np.array([[1,2],[3,4]])\n",
        "b = np.array([[1,3],[5,7]])\n",
        "\n",
        "print(\"a:\\n\", a)\n",
        "print(\"b:\\n\", b)\n",
        "\n",
        "print(\"Addition of 2 matrices:\\n\", a+b)\n",
        "print(\"Subtraction of 2 matrices:\\n\", a-b)\n",
        "print(\"Division of 2 matrices:\\n\", a/b)\n",
        "print(\"Mod of 2 matrices:\\n\", a%b)\n",
        "print(\"Multiplication of 2 matrices:\\n\", a*b)\n",
        "print(\"Dot product multiplication:\\n\", np.dot(a, b)) # here no. of columns of a should be equal to no. of rows of b\n",
        "print(\"Transpose:\\n\", np.transpose(a))\n",
        "print(\"A square:\\n\", np.dot(a, np.transpose(a)))\n",
        "\n"
      ],
      "execution_count": 34,
      "outputs": [
        {
          "output_type": "stream",
          "text": [
            "Some Basic Vector operations--\n",
            "\n",
            "x [1 2 3 4 5]\n",
            "y [1 3 5 7 9]\n",
            "Addition of 2 vectors: [ 2  5  8 11 14]\n",
            "Subtraction of 2 vectors: [ 0 -1 -2 -3 -4]\n",
            "Multiplication of 2 vectors: [ 1  6 15 28 45]\n",
            "Division of 2 vectors: [1.         0.66666667 0.6        0.57142857 0.55555556]\n",
            "Mod of 2 vectors: [0 2 3 4 5]\n",
            "\n",
            "\n",
            "Some Basic Matrix Operations--\n",
            "\n",
            "a:\n",
            " [[1 2]\n",
            " [3 4]]\n",
            "b:\n",
            " [[1 3]\n",
            " [5 7]]\n",
            "Addition of 2 matrices:\n",
            " [[ 2  5]\n",
            " [ 8 11]]\n",
            "Subtraction of 2 matrices:\n",
            " [[ 0 -1]\n",
            " [-2 -3]]\n",
            "Division of 2 matrices:\n",
            " [[1.         0.66666667]\n",
            " [0.6        0.57142857]]\n",
            "Mod of 2 matrices:\n",
            " [[0 2]\n",
            " [3 4]]\n",
            "Multiplication of 2 matrices:\n",
            " [[ 1  6]\n",
            " [15 28]]\n",
            "Dot product multiplication:\n",
            " [[11 17]\n",
            " [23 37]]\n",
            "Transpose:\n",
            " [[1 3]\n",
            " [2 4]]\n",
            "A square:\n",
            " [[ 5 11]\n",
            " [11 25]]\n"
          ],
          "name": "stdout"
        }
      ]
    },
    {
      "cell_type": "code",
      "metadata": {
        "id": "FfoWTyX7e8u0"
      },
      "source": [
        ""
      ],
      "execution_count": null,
      "outputs": []
    }
  ]
}